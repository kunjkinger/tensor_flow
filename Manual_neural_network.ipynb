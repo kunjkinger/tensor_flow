{
  "nbformat": 4,
  "nbformat_minor": 0,
  "metadata": {
    "colab": {
      "name": "Manual_neural_network.ipynb",
      "provenance": [],
      "collapsed_sections": [],
      "authorship_tag": "ABX9TyPjzogEFBKkUaiEScqDB2MB",
      "include_colab_link": true
    },
    "kernelspec": {
      "name": "python3",
      "display_name": "Python 3"
    },
    "language_info": {
      "name": "python"
    }
  },
  "cells": [
    {
      "cell_type": "markdown",
      "metadata": {
        "id": "view-in-github",
        "colab_type": "text"
      },
      "source": [
        "<a href=\"https://colab.research.google.com/github/kunjkinger/tensor_flow/blob/main/Manual_neural_network.ipynb\" target=\"_parent\"><img src=\"https://colab.research.google.com/assets/colab-badge.svg\" alt=\"Open In Colab\"/></a>"
      ]
    },
    {
      "cell_type": "code",
      "metadata": {
        "id": "R864iG7VqPIr"
      },
      "source": [
        "class simple():\n",
        "\n",
        "  def __init__(self,name):\n",
        "    print('hello ' + name)\n",
        "  \n",
        "  def yell(self):\n",
        "    print('yelling!')"
      ],
      "execution_count": null,
      "outputs": []
    },
    {
      "cell_type": "code",
      "metadata": {
        "colab": {
          "base_uri": "https://localhost:8080/"
        },
        "id": "72nYnZgyqT6M",
        "outputId": "757a7e8e-ac14-4aa3-cdda-0d7bf9c15c42"
      },
      "source": [
        "x = simple('kunj')"
      ],
      "execution_count": null,
      "outputs": [
        {
          "output_type": "stream",
          "text": [
            "hello kunj\n"
          ],
          "name": "stdout"
        }
      ]
    },
    {
      "cell_type": "code",
      "metadata": {
        "colab": {
          "base_uri": "https://localhost:8080/"
        },
        "id": "cFBHs3s9qV1W",
        "outputId": "75f022a5-f9fd-4602-9671-cf97dcb60318"
      },
      "source": [
        "x.yell()"
      ],
      "execution_count": null,
      "outputs": [
        {
          "output_type": "stream",
          "text": [
            "yelling!\n"
          ],
          "name": "stdout"
        }
      ]
    },
    {
      "cell_type": "code",
      "metadata": {
        "id": "JokQvRuEqdqW"
      },
      "source": [
        "class extended(simple):\n",
        "\n",
        "  def __init__(self):\n",
        "    print('extended')"
      ],
      "execution_count": null,
      "outputs": []
    },
    {
      "cell_type": "code",
      "metadata": {
        "colab": {
          "base_uri": "https://localhost:8080/"
        },
        "id": "2Cauji0fqtXV",
        "outputId": "e621b06c-ed34-4f31-dda0-4d1ba2952c3f"
      },
      "source": [
        "y = extended()"
      ],
      "execution_count": null,
      "outputs": [
        {
          "output_type": "stream",
          "text": [
            "extended\n"
          ],
          "name": "stdout"
        }
      ]
    },
    {
      "cell_type": "code",
      "metadata": {
        "colab": {
          "base_uri": "https://localhost:8080/"
        },
        "id": "YAAnTzS0qu8J",
        "outputId": "3c5aa3c2-f406-4b87-ec0e-39ef75262669"
      },
      "source": [
        "y.yell() # but still hello is not printing uf we want to call every functions from that class we need to call super "
      ],
      "execution_count": null,
      "outputs": [
        {
          "output_type": "stream",
          "text": [
            "yelling!\n"
          ],
          "name": "stdout"
        }
      ]
    },
    {
      "cell_type": "code",
      "metadata": {
        "id": "xrvYlmKzqwiJ"
      },
      "source": [
        "class superextended(simple):\n",
        "\n",
        "  def __init__(self):\n",
        "\n",
        "    super().__init__('kunj')\n",
        "    print('Super Extended!')"
      ],
      "execution_count": null,
      "outputs": []
    },
    {
      "cell_type": "code",
      "metadata": {
        "colab": {
          "base_uri": "https://localhost:8080/"
        },
        "id": "jfOCxqO3rD92",
        "outputId": "d35e6a4a-9cb2-45ee-e79f-3df639f710f0"
      },
      "source": [
        "z = superextended()"
      ],
      "execution_count": null,
      "outputs": [
        {
          "output_type": "stream",
          "text": [
            "hello kunj\n",
            "Super Extended!\n"
          ],
          "name": "stdout"
        }
      ]
    },
    {
      "cell_type": "code",
      "metadata": {
        "colab": {
          "base_uri": "https://localhost:8080/"
        },
        "id": "s2q5xCXIrH-M",
        "outputId": "27e4cd3b-dcb3-4943-fa6f-7563d38bd64f"
      },
      "source": [
        "z.yell()"
      ],
      "execution_count": null,
      "outputs": [
        {
          "output_type": "stream",
          "text": [
            "yelling!\n"
          ],
          "name": "stdout"
        }
      ]
    },
    {
      "cell_type": "code",
      "metadata": {
        "id": "E3_M6JQMrMht"
      },
      "source": [
        ""
      ],
      "execution_count": null,
      "outputs": []
    },
    {
      "cell_type": "markdown",
      "metadata": {
        "id": "UF1BnbO2sKEh"
      },
      "source": [
        "##operation"
      ]
    },
    {
      "cell_type": "code",
      "metadata": {
        "id": "5LKNbwlgsLbA"
      },
      "source": [
        "class operation():\n",
        "\n",
        "  def __init__(self,input_nodes=[]):\n",
        "    self.input_nodes = input_nodes\n",
        "    self.output_nodes = []\n",
        "\n",
        "    for node in input_nodes:\n",
        "      node.output_nodes.append(self)\n",
        "\n",
        "    _default_graph.operations.append(self)\n",
        "\n",
        "  def compute(self):\n",
        "    pass\n"
      ],
      "execution_count": null,
      "outputs": []
    },
    {
      "cell_type": "code",
      "metadata": {
        "id": "mem2hsrYsy-Y"
      },
      "source": [
        "class add(operation):\n",
        "  \n",
        "  def __init__(self,x,y):\n",
        "    super().__init__([x,y])\n",
        "  \n",
        "  def compute(self,x_var,y_var):\n",
        "    self.inputs = [x_var,y_var]\n",
        "    return x_var + y_var"
      ],
      "execution_count": null,
      "outputs": []
    },
    {
      "cell_type": "code",
      "metadata": {
        "id": "f5OKQQUqtNrZ"
      },
      "source": [
        "class multiply(operation):\n",
        "  \n",
        "  def __init__(self,x,y):\n",
        "    super().__init__([x,y])\n",
        "  \n",
        "  def compute(self,x_var,y_var):\n",
        "    self.inputs = [x_var,y_var]\n",
        "    return x_var * y_var"
      ],
      "execution_count": null,
      "outputs": []
    },
    {
      "cell_type": "code",
      "metadata": {
        "id": "sGZSnJoGtaj0"
      },
      "source": [
        "class matmul(operation):\n",
        "  \n",
        "  def __init__(self,x,y):\n",
        "    super().__init__([x,y])\n",
        "  \n",
        "  def compute(self,x_var,y_var):\n",
        "    self.inputs = [x_var,y_var]\n",
        "    return x_var.dot(y_var)"
      ],
      "execution_count": null,
      "outputs": []
    },
    {
      "cell_type": "code",
      "metadata": {
        "id": "E2BkEpK1thHa"
      },
      "source": [
        "class Placeholder():\n",
        "\n",
        "  def __init__(self):\n",
        "    self.output_nodes = []\n",
        "\n",
        "    _default_graph.placeholders.append(self)"
      ],
      "execution_count": null,
      "outputs": []
    },
    {
      "cell_type": "code",
      "metadata": {
        "id": "GvVWoempwp5Q"
      },
      "source": [
        "class Variable():\n",
        "\n",
        "  def __init__(self,initial_value=None):\n",
        "\n",
        "    self.value = initial_value\n",
        "    self.output_nodes = []\n",
        "\n",
        "    _default_graph.variables.append(self)\n"
      ],
      "execution_count": null,
      "outputs": []
    },
    {
      "cell_type": "code",
      "metadata": {
        "id": "EIEpezPzxcDu"
      },
      "source": [
        "class Graph():\n",
        "  \n",
        "  def __init__(self):\n",
        "    self.operations = []\n",
        "    self.placeholders = []\n",
        "    self.variables = []\n",
        "\n",
        "  def set_as_default(self):\n",
        "\n",
        "    global _default_graph\n",
        "    _default_graph = self"
      ],
      "execution_count": null,
      "outputs": []
    },
    {
      "cell_type": "markdown",
      "metadata": {
        "id": "kBvsxcJdyXT5"
      },
      "source": [
        "z = Ax + b\n",
        "\n",
        "A = 10\n",
        "\n",
        "b = 1\n",
        "\n",
        "z = 10x + 1"
      ]
    },
    {
      "cell_type": "code",
      "metadata": {
        "id": "5TZ2E2hLx-78"
      },
      "source": [
        "g = Graph()"
      ],
      "execution_count": null,
      "outputs": []
    },
    {
      "cell_type": "code",
      "metadata": {
        "id": "dlWMg4apyd5f"
      },
      "source": [
        "g.set_as_default()"
      ],
      "execution_count": null,
      "outputs": []
    },
    {
      "cell_type": "code",
      "metadata": {
        "id": "W6tVWnb9yfWx"
      },
      "source": [
        "A = Variable(10)"
      ],
      "execution_count": null,
      "outputs": []
    },
    {
      "cell_type": "code",
      "metadata": {
        "id": "H5Kfza5Hyk07"
      },
      "source": [
        "b = Variable(1)"
      ],
      "execution_count": null,
      "outputs": []
    },
    {
      "cell_type": "code",
      "metadata": {
        "id": "KX45ASZyymdn"
      },
      "source": [
        "x = Placeholder()"
      ],
      "execution_count": null,
      "outputs": []
    },
    {
      "cell_type": "code",
      "metadata": {
        "id": "GVKhfHRcyqQG"
      },
      "source": [
        "y = multiply(A,x)"
      ],
      "execution_count": null,
      "outputs": []
    },
    {
      "cell_type": "code",
      "metadata": {
        "id": "bVkaRWNuyuTF"
      },
      "source": [
        "z = add(y,b)"
      ],
      "execution_count": null,
      "outputs": []
    },
    {
      "cell_type": "code",
      "metadata": {
        "id": "hMBmrD8uyweX"
      },
      "source": [
        "import numpy as np\n",
        " \n",
        "def traverse_postorder(Operation):\n",
        "    nodes_postorder = []\n",
        "    \n",
        "    def recurse(node):\n",
        "        if isinstance(node,operation):\n",
        "            for input_node in node.input_nodes:\n",
        "                recurse(input_node)\n",
        "        nodes_postorder.append(node)\n",
        "        \n",
        "    recurse(Operation)\n",
        "    return nodes_postorder   "
      ],
      "execution_count": null,
      "outputs": []
    },
    {
      "cell_type": "code",
      "metadata": {
        "id": "JhMk99xUzyVr"
      },
      "source": [
        "class Session():\n",
        "\n",
        "  def run(self,Operation,feed_dict={}):\n",
        "\n",
        "    nodes_postorder = traverse_postorder(Operation)\n",
        "\n",
        "    for node in nodes_postorder:\n",
        "\n",
        "      if type(node) == Placeholder:\n",
        "        node.output = feed_dict[node]\n",
        "\n",
        "      elif type(node) == Variable:\n",
        "        node.output = node.value\n",
        "      \n",
        "      else:\n",
        "        #operation\n",
        "        node.inputs = [input_node.output for input_node in node.input_nodes]\n",
        "\n",
        "        node.output = node.compute(*node.inputs)\n",
        "\n",
        "      if type(node.output) == list:\n",
        "        node.output = np.array(node.output)\n",
        "    \n",
        "    return Operation.output"
      ],
      "execution_count": null,
      "outputs": []
    },
    {
      "cell_type": "code",
      "metadata": {
        "id": "skBlZzCT1lSA"
      },
      "source": [
        "sess = Session()"
      ],
      "execution_count": null,
      "outputs": []
    },
    {
      "cell_type": "code",
      "metadata": {
        "id": "nfXlMZt41twH"
      },
      "source": [
        "result = sess.run(Operation=z,feed_dict={x:10})"
      ],
      "execution_count": null,
      "outputs": []
    },
    {
      "cell_type": "code",
      "metadata": {
        "colab": {
          "base_uri": "https://localhost:8080/"
        },
        "id": "wrQ3Usfm14Jv",
        "outputId": "9087a0a6-f4f3-4d10-f6bf-129d07103e04"
      },
      "source": [
        "result  "
      ],
      "execution_count": null,
      "outputs": [
        {
          "output_type": "execute_result",
          "data": {
            "text/plain": [
              "101"
            ]
          },
          "metadata": {
            "tags": []
          },
          "execution_count": 102
        }
      ]
    },
    {
      "cell_type": "code",
      "metadata": {
        "id": "lIKT00Tp4Fj_"
      },
      "source": [
        "g = Graph()\n",
        "g.set_as_default()\n",
        "\n",
        "A = Variable([[10,20],[30,40]])\n",
        "b = Variable([1,2,])\n",
        "\n",
        "x = Placeholder()\n",
        "\n",
        "y = matmul(A,x)\n",
        "\n",
        "z = add(y,b)"
      ],
      "execution_count": null,
      "outputs": []
    },
    {
      "cell_type": "code",
      "metadata": {
        "id": "jFlTMPgt5tPj"
      },
      "source": [
        "sess = Session()"
      ],
      "execution_count": null,
      "outputs": []
    },
    {
      "cell_type": "code",
      "metadata": {
        "colab": {
          "base_uri": "https://localhost:8080/"
        },
        "id": "7Pn4gsYG6mu0",
        "outputId": "6f95c23a-e6ed-4183-d6a9-0f9b4e9014e3"
      },
      "source": [
        "sess.run(Operation=z,feed_dict={x:10})"
      ],
      "execution_count": null,
      "outputs": [
        {
          "output_type": "execute_result",
          "data": {
            "text/plain": [
              "array([[101, 202],\n",
              "       [301, 402]])"
            ]
          },
          "metadata": {
            "tags": []
          },
          "execution_count": 107
        }
      ]
    },
    {
      "cell_type": "code",
      "metadata": {
        "id": "z8sl_TOs6sZz"
      },
      "source": [
        ""
      ],
      "execution_count": null,
      "outputs": []
    },
    {
      "cell_type": "markdown",
      "metadata": {
        "id": "klc7nBSI7PIS"
      },
      "source": [
        "##calssfication\n",
        "\n",
        "##Activation function"
      ]
    },
    {
      "cell_type": "code",
      "metadata": {
        "id": "KG-0Bb9s7SX6"
      },
      "source": [
        "import matplotlib.pyplot as plt\n",
        "%matplotlib inline"
      ],
      "execution_count": 109,
      "outputs": []
    },
    {
      "cell_type": "code",
      "metadata": {
        "id": "lgm1ZEwf7XG8"
      },
      "source": [
        "def sigmoid(z):\n",
        "  return 1 / (1 + np.exp(-z))"
      ],
      "execution_count": 110,
      "outputs": []
    },
    {
      "cell_type": "code",
      "metadata": {
        "id": "quc5tonV7g52"
      },
      "source": [
        "sample_z = np.linspace(-10,10,100)\n",
        "sample_a = sigmoid(sample_z)"
      ],
      "execution_count": 112,
      "outputs": []
    },
    {
      "cell_type": "code",
      "metadata": {
        "colab": {
          "base_uri": "https://localhost:8080/",
          "height": 283
        },
        "id": "6lh0UOTi7rmk",
        "outputId": "9a7179e5-90eb-4c7b-ba04-811a09b95d26"
      },
      "source": [
        "plt.plot(sample_z,sample_a)"
      ],
      "execution_count": 113,
      "outputs": [
        {
          "output_type": "execute_result",
          "data": {
            "text/plain": [
              "[<matplotlib.lines.Line2D at 0x7fd179ddf310>]"
            ]
          },
          "metadata": {
            "tags": []
          },
          "execution_count": 113
        },
        {
          "output_type": "display_data",
          "data": {
            "image/png": "[encoded data removed]",
            "text/plain": [
              "<Figure size 432x288 with 1 Axes>"
            ]
          },
          "metadata": {
            "tags": [],
            "needs_background": "light"
          }
        }
      ]
    },
    {
      "cell_type": "code",
      "metadata": {
        "id": "FjQ3sUSr75wm"
      },
      "source": [
        "class Sigmoid(operation):\n",
        "\n",
        "  def __init__(self,z):\n",
        "\n",
        "    super().__init__([z])\n",
        "\n",
        "  def compute(self,z_val):\n",
        "    return 1 / (1 + np.exp(-z_val))"
      ],
      "execution_count": 128,
      "outputs": []
    },
    {
      "cell_type": "code",
      "metadata": {
        "id": "CJH8p82-8UlZ"
      },
      "source": [
        "from sklearn.datasets import make_blobs"
      ],
      "execution_count": 115,
      "outputs": []
    },
    {
      "cell_type": "code",
      "metadata": {
        "id": "7wgIMKq58evU"
      },
      "source": [
        "data = make_blobs(n_samples=50,n_features=2,centers=2,random_state=75)"
      ],
      "execution_count": 116,
      "outputs": []
    },
    {
      "cell_type": "code",
      "metadata": {
        "colab": {
          "base_uri": "https://localhost:8080/"
        },
        "id": "6bom6tQA8mEv",
        "outputId": "3a9df1b9-c8dd-4242-ffd9-3b3e5813a524"
      },
      "source": [
        "data"
      ],
      "execution_count": 117,
      "outputs": [
        {
          "output_type": "execute_result",
          "data": {
            "text/plain": [
              "(array([[  7.3402781 ,   9.36149154],\n",
              "        [  9.13332743,   8.74906102],\n",
              "        [  1.99243535,  -8.85885722],\n",
              "        [  7.38443759,   7.72520389],\n",
              "        [  7.97613887,   8.80878209],\n",
              "        [  7.76974352,   9.50899462],\n",
              "        [  8.3186688 ,  10.1026025 ],\n",
              "        [  8.79588546,   7.28046702],\n",
              "        [  9.81270381,   9.46968531],\n",
              "        [  1.57961049,  -8.17089971],\n",
              "        [  0.06441546,  -9.04982817],\n",
              "        [  7.2075117 ,   7.04533624],\n",
              "        [  9.10704928,   9.0272212 ],\n",
              "        [  1.82921897,  -9.86956281],\n",
              "        [  7.85036314,   7.986659  ],\n",
              "        [  3.04605603,  -7.50486114],\n",
              "        [  1.85582689,  -6.74473432],\n",
              "        [  2.88603902,  -8.85261704],\n",
              "        [ -1.20046211,  -9.55928542],\n",
              "        [  2.00890845,  -9.78471782],\n",
              "        [  7.68945113,   9.01706723],\n",
              "        [  6.42356167,   8.33356412],\n",
              "        [  8.15467319,   7.87489634],\n",
              "        [  1.92000795,  -7.50953708],\n",
              "        [  1.90073973,  -7.24386675],\n",
              "        [  7.7605855 ,   7.05124418],\n",
              "        [  6.90561582,   9.23493842],\n",
              "        [  0.65582768,  -9.5920878 ],\n",
              "        [  1.41804346,  -8.10517372],\n",
              "        [  9.65371965,   9.35409538],\n",
              "        [  1.23053506,  -7.98873571],\n",
              "        [  1.96322881,  -9.50169117],\n",
              "        [  6.11644251,   9.26709393],\n",
              "        [  7.70630321,  10.78862346],\n",
              "        [  0.79580385,  -9.00301023],\n",
              "        [  3.13114921,  -8.6849493 ],\n",
              "        [  1.3970852 ,  -7.25918415],\n",
              "        [  7.27808709,   7.15201886],\n",
              "        [  1.06965742,  -8.1648251 ],\n",
              "        [  6.37298915,   9.77705761],\n",
              "        [  7.24898455,   8.85834104],\n",
              "        [  2.09335725,  -7.66278316],\n",
              "        [  1.05865542,  -8.43841416],\n",
              "        [  6.43807502,   7.85483418],\n",
              "        [  6.94948313,   8.75248232],\n",
              "        [ -0.07326715, -11.69999644],\n",
              "        [  0.61463602,  -9.51908883],\n",
              "        [  1.31977821,  -7.2710667 ],\n",
              "        [  2.72532584,  -7.51956557],\n",
              "        [  8.20949206,  11.90419283]]),\n",
              " array([1, 1, 0, 1, 1, 1, 1, 1, 1, 0, 0, 1, 1, 0, 1, 0, 0, 0, 0, 0, 1, 1,\n",
              "        1, 0, 0, 1, 1, 0, 0, 1, 0, 0, 1, 1, 0, 0, 0, 1, 0, 1, 1, 0, 0, 1,\n",
              "        1, 0, 0, 0, 0, 1]))"
            ]
          },
          "metadata": {
            "tags": []
          },
          "execution_count": 117
        }
      ]
    },
    {
      "cell_type": "code",
      "metadata": {
        "colab": {
          "base_uri": "https://localhost:8080/"
        },
        "id": "T5J7iocO8vLW",
        "outputId": "ab19991f-0f8c-4605-ca60-99000d2a5639"
      },
      "source": [
        "type(data)"
      ],
      "execution_count": 118,
      "outputs": [
        {
          "output_type": "execute_result",
          "data": {
            "text/plain": [
              "tuple"
            ]
          },
          "metadata": {
            "tags": []
          },
          "execution_count": 118
        }
      ]
    },
    {
      "cell_type": "code",
      "metadata": {
        "id": "GHX6_uU88xdd"
      },
      "source": [
        "features = data[0]\n",
        "labels = data[1]"
      ],
      "execution_count": 119,
      "outputs": []
    },
    {
      "cell_type": "code",
      "metadata": {
        "colab": {
          "base_uri": "https://localhost:8080/"
        },
        "id": "CRZDIzad83nK",
        "outputId": "2f127b49-7d46-4d3b-ff79-258e87d58704"
      },
      "source": [
        "labels"
      ],
      "execution_count": 121,
      "outputs": [
        {
          "output_type": "execute_result",
          "data": {
            "text/plain": [
              "array([1, 1, 0, 1, 1, 1, 1, 1, 1, 0, 0, 1, 1, 0, 1, 0, 0, 0, 0, 0, 1, 1,\n",
              "       1, 0, 0, 1, 1, 0, 0, 1, 0, 0, 1, 1, 0, 0, 0, 1, 0, 1, 1, 0, 0, 1,\n",
              "       1, 0, 0, 0, 0, 1])"
            ]
          },
          "metadata": {
            "tags": []
          },
          "execution_count": 121
        }
      ]
    },
    {
      "cell_type": "code",
      "metadata": {
        "colab": {
          "base_uri": "https://localhost:8080/",
          "height": 283
        },
        "id": "KQ2VCi8M84ue",
        "outputId": "539ef646-12eb-4e72-d49d-4ef84a40c58b"
      },
      "source": [
        "plt.scatter(features[:,0],features[:,1],c=labels)"
      ],
      "execution_count": 124,
      "outputs": [
        {
          "output_type": "execute_result",
          "data": {
            "text/plain": [
              "<matplotlib.collections.PathCollection at 0x7fd169b24fd0>"
            ]
          },
          "metadata": {
            "tags": []
          },
          "execution_count": 124
        },
        {
          "output_type": "display_data",
          "data": {
            "image/png": "[encoded data removed]",
            "text/plain": [
              "<Figure size 432x288 with 1 Axes>"
            ]
          },
          "metadata": {
            "tags": [],
            "needs_background": "light"
          }
        }
      ]
    },
    {
      "cell_type": "code",
      "metadata": {
        "colab": {
          "base_uri": "https://localhost:8080/",
          "height": 283
        },
        "id": "IXCBwLrV9G2s",
        "outputId": "b6ab01bd-3f58-45dc-af1d-70bdc0ba3fe9"
      },
      "source": [
        "x = np.linspace(0,11,10)\n",
        "y = -x + 5\n",
        "plt.scatter(features[:,0],features[:,1],c=labels)\n",
        "plt.plot(x,y)"
      ],
      "execution_count": 127,
      "outputs": [
        {
          "output_type": "execute_result",
          "data": {
            "text/plain": [
              "[<matplotlib.lines.Line2D at 0x7fd1699c0350>]"
            ]
          },
          "metadata": {
            "tags": []
          },
          "execution_count": 127
        },
        {
          "output_type": "display_data",
          "data": {
            "image/png": "[encoded data removed]",
            "text/plain": [
              "<Figure size 432x288 with 1 Axes>"
            ]
          },
          "metadata": {
            "tags": [],
            "needs_background": "light"
          }
        }
      ]
    },
    {
      "cell_type": "code",
      "metadata": {
        "id": "Hq-n5-7V9mfp"
      },
      "source": [
        ""
      ],
      "execution_count": null,
      "outputs": []
    }
  ]
}